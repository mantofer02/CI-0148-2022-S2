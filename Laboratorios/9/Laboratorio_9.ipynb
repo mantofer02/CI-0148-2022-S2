{
 "cells": [
  {
   "cell_type": "code",
   "execution_count": 1,
   "metadata": {},
   "outputs": [],
   "source": [
    "from PIL import Image\n",
    "import numpy as np\n",
    "import math\n",
    "import random\n",
    "import pandas as pd\n",
    "import webcolors\n",
    "import matplotlib.pyplot as plt\n",
    "import matplotlib.image as mpimg\n",
    "import seaborn as sns\n",
    "\n",
    "FOLDER_PATH = 'data/'"
   ]
  },
  {
   "cell_type": "code",
   "execution_count": 2,
   "metadata": {},
   "outputs": [],
   "source": [
    "def load_image(filename: str, resize: tuple):\n",
    "  img = Image.open(filename)\n",
    "  img = img.resize(resize)\n",
    "  return np.array(img).astype(np.float64)"
   ]
  },
  {
   "cell_type": "code",
   "execution_count": 3,
   "metadata": {},
   "outputs": [],
   "source": [
    "def show_image(filename: str):\n",
    "  # img = Image.open(filename)\n",
    "  # img.show()\n",
    "  pass"
   ]
  },
  {
   "cell_type": "code",
   "execution_count": 4,
   "metadata": {},
   "outputs": [],
   "source": [
    "def euclidean_distance(p1, p2):\n",
    "    return math.sqrt(sum((px - qx) ** 2.0 for px, qx in zip(p1, p2)))"
   ]
  },
  {
   "cell_type": "code",
   "execution_count": 5,
   "metadata": {},
   "outputs": [],
   "source": [
    "def manhattan_distance(p1, p2):\n",
    "  return sum(abs(px - qx) for px, qx in zip(p1, p2))"
   ]
  },
  {
   "cell_type": "code",
   "execution_count": 6,
   "metadata": {},
   "outputs": [],
   "source": [
    "def nearest_centroid(point, centroids, distance):\n",
    "  flag = False\n",
    "  idx_centroid, min_distance = 0, 0\n",
    "\n",
    "  for i in range(len(centroids)):\n",
    "    current_distance = distance(point, centroids[i])\n",
    "    if not flag or current_distance <  min_distance:\n",
    "      flag = True\n",
    "      \n",
    "      idx_centroid = i\n",
    "      min_distance = current_distance\n",
    "\n",
    "  return idx_centroid, min_distance"
   ]
  },
  {
   "cell_type": "code",
   "execution_count": 7,
   "metadata": {},
   "outputs": [],
   "source": [
    "def lloyd(data, k, iters, type, distance):\n",
    "  distance_func = euclidean_distance if distance == \"euclidian\" else manhattan_distance\n",
    "\n",
    "  go = True\n",
    "  epoch_c = 0\n",
    "  error = 0\n",
    "\n",
    "  cluster_array = np.zeros(len(data))\n",
    "\n",
    "  centroids = random.choices(data, k=k)\n",
    "\n",
    "  while go:\n",
    "    for element, i in zip(data, range(len(cluster_array))):\n",
    "      idx_centroid, min_distace = nearest_centroid(\n",
    "        element, centroids, distance_func)\n",
    "\n",
    "      error += min_distace\n",
    "      cluster_array[i] = idx_centroid\n",
    "\n",
    "    for i in range(k):\n",
    "      cluster_average = []\n",
    "      for element, j in zip(data, range(len(cluster_array))):\n",
    "        if cluster_array[j] == i:\n",
    "          cluster_average.append(element)\n",
    "\n",
    "      centroids[i] = np.average(cluster_average, axis=0)\n",
    "      \n",
    "    epoch_c += 1\n",
    "    go = False if epoch_c > iters else True\n",
    "\n",
    "    return centroids, error\n",
    "\n"
   ]
  },
  {
   "cell_type": "code",
   "execution_count": 8,
   "metadata": {},
   "outputs": [],
   "source": [
    "\n",
    "def rgb2hex(r,g,b):\n",
    "    return \"#{:02x}{:02x}{:02x}\".format(r,g,b)"
   ]
  },
  {
   "cell_type": "code",
   "execution_count": 9,
   "metadata": {},
   "outputs": [],
   "source": [
    "def print_color(color_palette):\n",
    "  color_1 = rgb2hex(int(color_palette[0][0]),int(color_palette[0][1]), int(color_palette[0][2]))\n",
    "  color_2 = rgb2hex(int(color_palette[1][0]),int(color_palette[1][1]), int(color_palette[1][2]))\n",
    "  color_3 = rgb2hex(int(color_palette[2][0]), int(color_palette[2][1]), int(color_palette[2][2]))\n",
    "  color_4 = rgb2hex(int(color_palette[3][0]), int(color_palette[3][1]), int(color_palette[3][2]))\n",
    "  color_5 = rgb2hex(int(color_palette[4][0]), int(color_palette[4][1]), int(color_palette[4][2]))\n",
    "\n",
    "\n",
    "\n",
    "  sample = [color_1, color_2, color_3, color_4, color_5]\n",
    "  sns.palplot(sample)"
   ]
  },
  {
   "cell_type": "code",
   "execution_count": 10,
   "metadata": {},
   "outputs": [],
   "source": [
    "def closest_colour(requested_colour):\n",
    "    min_colours = {}\n",
    "    for key, name in webcolors.CSS3_HEX_TO_NAMES.items():\n",
    "        r_c, g_c, b_c = webcolors.hex_to_rgb(key)\n",
    "        rd = (r_c - requested_colour[0]) ** 2\n",
    "        gd = (g_c - requested_colour[1]) ** 2\n",
    "        bd = (b_c - requested_colour[2]) ** 2\n",
    "        min_colours[(rd + gd + bd)] = name\n",
    "    return min_colours[min(min_colours.keys())]"
   ]
  },
  {
   "cell_type": "code",
   "execution_count": 11,
   "metadata": {},
   "outputs": [],
   "source": [
    "def get_colour_name(requested_colour):\n",
    "    try:\n",
    "        closest_name = actual_name = webcolors.rgb_to_name(requested_colour)\n",
    "    except ValueError:\n",
    "        closest_name = closest_colour(requested_colour)\n",
    "        actual_name = None\n",
    "    return actual_name, closest_name"
   ]
  },
  {
   "cell_type": "code",
   "execution_count": 12,
   "metadata": {},
   "outputs": [
    {
     "name": "stdout",
     "output_type": "stream",
     "text": [
      "(None, 'maroon')\n",
      "(None, 'chocolate')\n",
      "(None, 'maroon')\n",
      "(None, 'saddlebrown')\n",
      "(None, 'chocolate')\n"
     ]
    }
   ],
   "source": [
    "img = \"img_01.png\"\n",
    "show_image(FOLDER_PATH + img)\n",
    "\n",
    "img_array = load_image(FOLDER_PATH + img, (128, 128))\n",
    "img_array = img_array.reshape(128*128, 3)\n",
    "\n",
    "color_palletes, error = lloyd(img_array, 5, 1e5, \"\", \"euclidean\")\n",
    "\n",
    "for color in color_palletes:\n",
    "  print(get_colour_name(color))"
   ]
  },
  {
   "cell_type": "code",
   "execution_count": 13,
   "metadata": {},
   "outputs": [
    {
     "data": {
      "image/png": "[encoded data removed]",
      "text/plain": [
       "<Figure size 500x100 with 1 Axes>"
      ]
     },
     "metadata": {},
     "output_type": "display_data"
    }
   ],
   "source": [
    "print_color(color_palletes)"
   ]
  },
  {
   "cell_type": "code",
   "execution_count": 14,
   "metadata": {},
   "outputs": [
    {
     "name": "stdout",
     "output_type": "stream",
     "text": [
      "(None, 'indigo')\n",
      "(None, 'darkslategray')\n",
      "(None, 'lightslategray')\n",
      "(None, 'darkmagenta')\n",
      "(None, 'indigo')\n"
     ]
    }
   ],
   "source": [
    "img = \"img_02.png\"\n",
    "show_image(FOLDER_PATH + img)\n",
    "\n",
    "img_array = load_image(FOLDER_PATH + img, (128, 128))\n",
    "img_array = img_array.reshape(128*128, 3)\n",
    "\n",
    "color_palletes, error = lloyd(img_array, 5, 1e5, \"\", \"euclidean\")\n",
    "\n",
    "for color in color_palletes:\n",
    "  print(get_colour_name(color))"
   ]
  },
  {
   "cell_type": "code",
   "execution_count": 15,
   "metadata": {},
   "outputs": [
    {
     "data": {
      "image/png": "[encoded data removed]",
      "text/plain": [
       "<Figure size 500x100 with 1 Axes>"
      ]
     },
     "metadata": {},
     "output_type": "display_data"
    }
   ],
   "source": [
    "print_color(color_palletes)\n"
   ]
  },
  {
   "cell_type": "code",
   "execution_count": 16,
   "metadata": {},
   "outputs": [
    {
     "name": "stdout",
     "output_type": "stream",
     "text": [
      "(None, 'black')\n",
      "(None, 'rosybrown')\n",
      "(None, 'silver')\n",
      "(None, 'darkolivegreen')\n",
      "(None, 'dimgray')\n"
     ]
    }
   ],
   "source": [
    "img = \"img_03.png\"\n",
    "show_image(FOLDER_PATH + img)\n",
    "\n",
    "img_array = load_image(FOLDER_PATH + img, (128, 128))\n",
    "img_array = img_array.reshape(128*128, 3)\n",
    "\n",
    "color_palletes, error = lloyd(img_array, 5, 1e5, \"\", \"euclidean\")\n",
    "\n",
    "for color in color_palletes:\n",
    "  print(get_colour_name(color))"
   ]
  },
  {
   "cell_type": "code",
   "execution_count": 17,
   "metadata": {},
   "outputs": [
    {
     "data": {
      "image/png": "[encoded data removed]",
      "text/plain": [
       "<Figure size 500x100 with 1 Axes>"
      ]
     },
     "metadata": {},
     "output_type": "display_data"
    }
   ],
   "source": [
    "print_color(color_palletes)\n",
    "\n"
   ]
  },
  {
   "cell_type": "code",
   "execution_count": 18,
   "metadata": {},
   "outputs": [
    {
     "name": "stdout",
     "output_type": "stream",
     "text": [
      "(None, 'darkslategray')\n",
      "(None, 'darkslategray')\n",
      "(None, 'lightslategray')\n",
      "(None, 'firebrick')\n",
      "(None, 'indianred')\n"
     ]
    }
   ],
   "source": [
    "img = \"img_04.png\"\n",
    "show_image(FOLDER_PATH + img)\n",
    "\n",
    "img_array = load_image(FOLDER_PATH + img, (128, 128))\n",
    "img_array = img_array.reshape(128*128, 3)\n",
    "\n",
    "color_palletes, error = lloyd(img_array, 5, 1e5, \"\", \"euclidean\")\n",
    "\n",
    "for color in color_palletes:\n",
    "  print(get_colour_name(color))"
   ]
  },
  {
   "cell_type": "code",
   "execution_count": 19,
   "metadata": {},
   "outputs": [
    {
     "data": {
      "image/png": "[encoded data removed]",
      "text/plain": [
       "<Figure size 500x100 with 1 Axes>"
      ]
     },
     "metadata": {},
     "output_type": "display_data"
    }
   ],
   "source": [
    "print_color(color_palletes)\n",
    "\n"
   ]
  },
  {
   "cell_type": "code",
   "execution_count": 20,
   "metadata": {},
   "outputs": [
    {
     "name": "stdout",
     "output_type": "stream",
     "text": [
      "(None, 'dimgray')\n",
      "(None, 'darkslategray')\n",
      "(None, 'black')\n",
      "(None, 'black')\n",
      "(None, 'black')\n"
     ]
    }
   ],
   "source": [
    "img = \"img_05.png\"\n",
    "show_image(FOLDER_PATH + img)\n",
    "\n",
    "img_array = load_image(FOLDER_PATH + img, (128, 128))\n",
    "img_array = img_array.reshape(128*128, 3)\n",
    "\n",
    "color_palletes, error = lloyd(img_array, 5, 1e5, \"\", \"euclidean\")\n",
    "\n",
    "for color in color_palletes:\n",
    "  print(get_colour_name(color))"
   ]
  },
  {
   "cell_type": "code",
   "execution_count": 21,
   "metadata": {},
   "outputs": [
    {
     "data": {
      "image/png": "[encoded data removed]",
      "text/plain": [
       "<Figure size 500x100 with 1 Axes>"
      ]
     },
     "metadata": {},
     "output_type": "display_data"
    }
   ],
   "source": [
    "print_color(color_palletes)\n",
    "\n"
   ]
  }
 ],
 "metadata": {
  "kernelspec": {
   "display_name": "Python 3.10.8 64-bit (microsoft store)",
   "language": "python",
   "name": "python3"
  },
  "language_info": {
   "codemirror_mode": {
    "name": "ipython",
    "version": 3
   },
   "file_extension": ".py",
   "mimetype": "text/x-python",
   "name": "python",
   "nbconvert_exporter": "python",
   "pygments_lexer": "ipython3",
   "version": "3.10.8"
  },
  "orig_nbformat": 4,
  "vscode": {
   "interpreter": {
    "hash": "f582a5861d3dcea4e64d5e200ed4ee5a30f56e00e954e63beb025b62d243ba70"
   }
  }
 },
 "nbformat": 4,
 "nbformat_minor": 2
}
