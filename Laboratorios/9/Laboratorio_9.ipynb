{
 "cells": [
  {
   "cell_type": "code",
   "execution_count": 337,
   "metadata": {},
   "outputs": [],
   "source": [
    "from PIL import Image\n",
    "import numpy as np\n",
    "import math\n",
    "import random\n",
    "import pandas as pd"
   ]
  },
  {
   "cell_type": "code",
   "execution_count": 338,
   "metadata": {},
   "outputs": [],
   "source": [
    "def load_image(filename: str, resize: tuple):\n",
    "  img = Image.open(filename)\n",
    "  img = img.resize(resize)\n",
    "  return np.array(img)"
   ]
  },
  {
   "cell_type": "code",
   "execution_count": 339,
   "metadata": {},
   "outputs": [],
   "source": [
    "def euclidean_distance(p1, p2):\n",
    "    return math.sqrt(sum((px - qx) ** 2.0 for px, qx in zip(p1, p2)))"
   ]
  },
  {
   "cell_type": "code",
   "execution_count": 340,
   "metadata": {},
   "outputs": [],
   "source": [
    "def manhattan_distance(p1, p2):\n",
    "  return sum(abs(px - qx) for px, qx in zip(p1, p2))"
   ]
  },
  {
   "cell_type": "code",
   "execution_count": 341,
   "metadata": {},
   "outputs": [],
   "source": [
    "def nearest_centroid(point, centroids, distance):\n",
    "  flag = False\n",
    "  idx_centroid, min_distance = 0, 0\n",
    "\n",
    "  for i in range(len(centroids)):\n",
    "    current_distance = distance(point, centroids[i])\n",
    "    if not flag or current_distance <  min_distance:\n",
    "      flag = True\n",
    "      \n",
    "      idx_centroid = i\n",
    "      min_distance = current_distance\n",
    "\n",
    "  return idx_centroid, min_distance"
   ]
  },
  {
   "cell_type": "code",
   "execution_count": 342,
   "metadata": {},
   "outputs": [],
   "source": [
    "def lloyd(data, k, iters, type, distance):\n",
    "  distance_func = euclidean_distance if distance == \"euclidian\" else manhattan_distance\n",
    "\n",
    "  go = True\n",
    "  epoch_c = 0\n",
    "  data_obj = {'point': data, 'cluster': np.zeros(len(data))}\n",
    "  df = pd.DataFrame(data_obj)\n",
    "  centroids = random.choices(data, k=k)\n",
    "\n",
    "  nearest_cluster = np.zeros(len(data))\n",
    "\n",
    "\n",
    "\n",
    "  while go:\n",
    "    for i in range(len(df)):\n",
    "      idx_centroid, min_distace = nearest_centroid(\n",
    "        df.loc[i, 'point'], centroids, distance_func)\n",
    "\n",
    "      df.loc[i, 'cluster'] = idx_centroid\n",
    "\n",
    "    for i in range(k):\n",
    "      filter_df = df.loc[df['cluster'] == i]\n",
    "      if not filter_df.empty:\n",
    "        column = np.array(filter_df['point'].values.tolist())\n",
    "        centroids[i] = np.average(column, axis=0)\n",
    "\n",
    "    epoch_c += 1\n",
    "    go = False if epoch_c > iters else True\n",
    "\n"
   ]
  },
  {
   "cell_type": "code",
   "execution_count": 343,
   "metadata": {},
   "outputs": [],
   "source": [
    "lloyd([[1, 4, 4], [1, 3, 3], [3, 3, 3]], 2, 100, \"\", \"\")"
   ]
  }
 ],
 "metadata": {
  "kernelspec": {
   "display_name": "Python 3.10.3 64-bit",
   "language": "python",
   "name": "python3"
  },
  "language_info": {
   "codemirror_mode": {
    "name": "ipython",
    "version": 3
   },
   "file_extension": ".py",
   "mimetype": "text/x-python",
   "name": "python",
   "nbconvert_exporter": "python",
   "pygments_lexer": "ipython3",
   "version": "3.10.3"
  },
  "orig_nbformat": 4,
  "vscode": {
   "interpreter": {
    "hash": "369f2c481f4da34e4445cda3fffd2e751bd1c4d706f27375911949ba6bb62e1c"
   }
  }
 },
 "nbformat": 4,
 "nbformat_minor": 2
}
