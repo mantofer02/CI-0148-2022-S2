{
 "cells": [
  {
   "cell_type": "code",
   "execution_count": 16,
   "metadata": {},
   "outputs": [],
   "source": [
    "from PIL import Image\n",
    "import numpy as np\n",
    "import math\n",
    "import random\n",
    "import pandas as pd\n",
    "import webcolors\n",
    "import matplotlib.pyplot as plt\n",
    "import matplotlib.image as mpimg\n",
    "\n",
    "FOLDER_PATH = 'data/'"
   ]
  },
  {
   "cell_type": "code",
   "execution_count": 17,
   "metadata": {},
   "outputs": [],
   "source": [
    "def load_image(filename: str, resize: tuple):\n",
    "  img = Image.open(filename)\n",
    "  img = img.resize(resize)\n",
    "  return np.array(img).astype(np.float64)"
   ]
  },
  {
   "cell_type": "code",
   "execution_count": 18,
   "metadata": {},
   "outputs": [],
   "source": [
    "def show_image(filename: str):\n",
    "  img = Image.open(filename)\n",
    "  img.show()"
   ]
  },
  {
   "cell_type": "code",
   "execution_count": 19,
   "metadata": {},
   "outputs": [],
   "source": [
    "def euclidean_distance(p1, p2):\n",
    "    return math.sqrt(sum((px - qx) ** 2.0 for px, qx in zip(p1, p2)))"
   ]
  },
  {
   "cell_type": "code",
   "execution_count": 20,
   "metadata": {},
   "outputs": [],
   "source": [
    "def manhattan_distance(p1, p2):\n",
    "  return sum(abs(px - qx) for px, qx in zip(p1, p2))"
   ]
  },
  {
   "cell_type": "code",
   "execution_count": 21,
   "metadata": {},
   "outputs": [],
   "source": [
    "def nearest_centroid(point, centroids, distance):\n",
    "  flag = False\n",
    "  idx_centroid, min_distance = 0, 0\n",
    "\n",
    "  for i in range(len(centroids)):\n",
    "    current_distance = distance(point, centroids[i])\n",
    "    if not flag or current_distance <  min_distance:\n",
    "      flag = True\n",
    "      \n",
    "      idx_centroid = i\n",
    "      min_distance = current_distance\n",
    "\n",
    "  return idx_centroid, min_distance"
   ]
  },
  {
   "cell_type": "code",
   "execution_count": 22,
   "metadata": {},
   "outputs": [],
   "source": [
    "def lloyd(data, k, iters, type, distance):\n",
    "  distance_func = euclidean_distance if distance == \"euclidian\" else manhattan_distance\n",
    "\n",
    "  go = True\n",
    "  epoch_c = 0\n",
    "  error = 0\n",
    "\n",
    "  cluster_array = np.zeros(len(data))\n",
    "\n",
    "  centroids = random.choices(data, k=k)\n",
    "\n",
    "  while go:\n",
    "    for element, i in zip(data, range(len(cluster_array))):\n",
    "      idx_centroid, min_distace = nearest_centroid(\n",
    "        element, centroids, distance_func)\n",
    "\n",
    "      error += min_distace\n",
    "      cluster_array[i] = idx_centroid\n",
    "\n",
    "    for i in range(k):\n",
    "      cluster_average = []\n",
    "      for element, j in zip(data, range(len(cluster_array))):\n",
    "        if cluster_array[j] == i:\n",
    "          cluster_average.append(element)\n",
    "\n",
    "      centroids[i] = np.average(cluster_average, axis=0)\n",
    "      \n",
    "    epoch_c += 1\n",
    "    go = False if epoch_c > iters else True\n",
    "\n",
    "    return centroids, error\n",
    "\n"
   ]
  },
  {
   "cell_type": "code",
   "execution_count": 23,
   "metadata": {},
   "outputs": [],
   "source": [
    "def closest_colour(requested_colour):\n",
    "    min_colours = {}\n",
    "    for key, name in webcolors.CSS3_HEX_TO_NAMES.items():\n",
    "        r_c, g_c, b_c = webcolors.hex_to_rgb(key)\n",
    "        rd = (r_c - requested_colour[0]) ** 2\n",
    "        gd = (g_c - requested_colour[1]) ** 2\n",
    "        bd = (b_c - requested_colour[2]) ** 2\n",
    "        min_colours[(rd + gd + bd)] = name\n",
    "    return min_colours[min(min_colours.keys())]"
   ]
  },
  {
   "cell_type": "code",
   "execution_count": 24,
   "metadata": {},
   "outputs": [],
   "source": [
    "def get_colour_name(requested_colour):\n",
    "    try:\n",
    "        closest_name = actual_name = webcolors.rgb_to_name(requested_colour)\n",
    "    except ValueError:\n",
    "        closest_name = closest_colour(requested_colour)\n",
    "        actual_name = None\n",
    "    return actual_name, closest_name"
   ]
  },
  {
   "cell_type": "code",
   "execution_count": 25,
   "metadata": {},
   "outputs": [
    {
     "name": "stdout",
     "output_type": "stream",
     "text": [
      "(None, 'chocolate')\n",
      "(None, 'saddlebrown')\n",
      "(None, 'maroon')\n",
      "(None, 'maroon')\n",
      "(None, 'maroon')\n"
     ]
    }
   ],
   "source": [
    "img = \"img_01.png\"\n",
    "show_image(FOLDER_PATH + img)\n",
    "\n",
    "img_array = load_image(FOLDER_PATH + img, (128, 128))\n",
    "img_array = img_array.reshape(128*128, 3)\n",
    "\n",
    "color_palletes, error = lloyd(img_array, 5, 1e5, \"\", \"euclidean\")\n",
    "\n",
    "for color in color_palletes:\n",
    "  print(get_colour_name(color))"
   ]
  },
  {
   "cell_type": "code",
   "execution_count": 26,
   "metadata": {},
   "outputs": [
    {
     "data": {
      "text/plain": [
       "[array([193.2672847 ,  99.40469589,   4.28019407]),\n",
       " array([134.47048611,  39.11545139,   2.53559028]),\n",
       " array([125.60285375,  33.64803805,   2.35790725]),\n",
       " array([93.47763864, 21.69946333,  1.78711986]),\n",
       " array([111.6938186 ,  27.32582322,   2.04852686])]"
      ]
     },
     "execution_count": 26,
     "metadata": {},
     "output_type": "execute_result"
    }
   ],
   "source": [
    "color_palletes"
   ]
  },
  {
   "cell_type": "code",
   "execution_count": 27,
   "metadata": {},
   "outputs": [
    {
     "name": "stdout",
     "output_type": "stream",
     "text": [
      "(None, 'darkslateblue')\n",
      "(None, 'rosybrown')\n",
      "(None, 'darkslategray')\n",
      "(None, 'darkmagenta')\n",
      "(None, 'midnightblue')\n"
     ]
    }
   ],
   "source": [
    "img = \"img_02.png\"\n",
    "show_image(FOLDER_PATH + img)\n",
    "\n",
    "img_array = load_image(FOLDER_PATH + img, (128, 128))\n",
    "img_array = img_array.reshape(128*128, 3)\n",
    "\n",
    "color_palletes, error = lloyd(img_array, 5, 1e5, \"\", \"euclidean\")\n",
    "\n",
    "for color in color_palletes:\n",
    "  print(get_colour_name(color))"
   ]
  },
  {
   "cell_type": "code",
   "execution_count": 28,
   "metadata": {},
   "outputs": [
    {
     "data": {
      "text/plain": [
       "[array([ 91.36070111,  38.40774908, 102.3302583 ]),\n",
       " array([171.26374443, 119.52080238, 177.16976226]),\n",
       " array([56.08534107, 24.61538462, 59.34746009]),\n",
       " array([131.66546227,  46.80680128, 140.965356  ]),\n",
       " array([ 66.52697095,  37.17101363, 101.71161826])]"
      ]
     },
     "execution_count": 28,
     "metadata": {},
     "output_type": "execute_result"
    }
   ],
   "source": [
    "color_palletes"
   ]
  },
  {
   "cell_type": "code",
   "execution_count": 29,
   "metadata": {},
   "outputs": [
    {
     "name": "stdout",
     "output_type": "stream",
     "text": [
      "(None, 'silver')\n",
      "(None, 'sienna')\n",
      "(None, 'darkolivegreen')\n",
      "(None, 'rosybrown')\n",
      "(None, 'gray')\n"
     ]
    }
   ],
   "source": [
    "img = \"img_03.png\"\n",
    "show_image(FOLDER_PATH + img)\n",
    "\n",
    "img_array = load_image(FOLDER_PATH + img, (128, 128))\n",
    "img_array = img_array.reshape(128*128, 3)\n",
    "\n",
    "color_palletes, error = lloyd(img_array, 5, 1e5, \"\", \"euclidean\")\n",
    "\n",
    "for color in color_palletes:\n",
    "  print(get_colour_name(color))"
   ]
  },
  {
   "cell_type": "code",
   "execution_count": 30,
   "metadata": {},
   "outputs": [
    {
     "data": {
      "text/plain": [
       "[array([194.06914567, 197.24953903, 176.5414874 ]),\n",
       " array([137.94977169, 109.16666667,  68.55707763]),\n",
       " array([78.35770578, 64.308669  , 39.6234676 ]),\n",
       " array([157.11536851, 153.67650754, 122.75481575]),\n",
       " array([133.35189003, 126.10687285,  94.62886598])]"
      ]
     },
     "execution_count": 30,
     "metadata": {},
     "output_type": "execute_result"
    }
   ],
   "source": [
    "color_palletes\n"
   ]
  },
  {
   "cell_type": "code",
   "execution_count": 31,
   "metadata": {},
   "outputs": [
    {
     "name": "stdout",
     "output_type": "stream",
     "text": [
      "(None, 'black')\n",
      "(None, 'gray')\n",
      "(None, 'darkslategray')\n",
      "(None, 'firebrick')\n",
      "(None, 'tomato')\n"
     ]
    }
   ],
   "source": [
    "img = \"img_04.png\"\n",
    "show_image(FOLDER_PATH + img)\n",
    "\n",
    "img_array = load_image(FOLDER_PATH + img, (128, 128))\n",
    "img_array = img_array.reshape(128*128, 3)\n",
    "\n",
    "color_palletes, error = lloyd(img_array, 5, 1e5, \"\", \"euclidean\")\n",
    "\n",
    "for color in color_palletes:\n",
    "  print(get_colour_name(color))"
   ]
  },
  {
   "cell_type": "code",
   "execution_count": 32,
   "metadata": {},
   "outputs": [
    {
     "data": {
      "text/plain": [
       "[array([31.89087302, 14.51785714, 24.7202381 ]),\n",
       " array([127.48420381, 119.74460164, 140.27358792]),\n",
       " array([68.45902883, 51.01745068, 71.18310572]),\n",
       " array([176.9147351 ,  40.17301325,  33.89652318]),\n",
       " array([240.06302202,  85.59149582,  65.39028094])]"
      ]
     },
     "execution_count": 32,
     "metadata": {},
     "output_type": "execute_result"
    }
   ],
   "source": [
    "color_palletes\n"
   ]
  },
  {
   "cell_type": "code",
   "execution_count": 33,
   "metadata": {},
   "outputs": [
    {
     "name": "stdout",
     "output_type": "stream",
     "text": [
      "(None, 'dimgray')\n",
      "(None, 'gray')\n",
      "(None, 'black')\n",
      "(None, 'seagreen')\n",
      "(None, 'darkslategray')\n"
     ]
    }
   ],
   "source": [
    "img = \"img_05.png\"\n",
    "show_image(FOLDER_PATH + img)\n",
    "\n",
    "img_array = load_image(FOLDER_PATH + img, (128, 128))\n",
    "img_array = img_array.reshape(128*128, 3)\n",
    "\n",
    "color_palletes, error = lloyd(img_array, 5, 1e5, \"\", \"euclidean\")\n",
    "\n",
    "for color in color_palletes:\n",
    "  print(get_colour_name(color))"
   ]
  },
  {
   "cell_type": "code",
   "execution_count": 34,
   "metadata": {},
   "outputs": [
    {
     "data": {
      "text/plain": [
       "[array([87.15797172, 83.76840566, 87.06923452]),\n",
       " array([143.7542153 , 137.80674449, 141.05642023]),\n",
       " array([11.93893623, 22.57797573, 29.61425252]),\n",
       " array([ 54.04107143, 120.75178571, 109.95178571]),\n",
       " array([56.32619844, 58.95295429, 56.01070234])]"
      ]
     },
     "execution_count": 34,
     "metadata": {},
     "output_type": "execute_result"
    }
   ],
   "source": [
    "color_palletes\n"
   ]
  }
 ],
 "metadata": {
  "kernelspec": {
   "display_name": "Python 3.10.3 64-bit",
   "language": "python",
   "name": "python3"
  },
  "language_info": {
   "codemirror_mode": {
    "name": "ipython",
    "version": 3
   },
   "file_extension": ".py",
   "mimetype": "text/x-python",
   "name": "python",
   "nbconvert_exporter": "python",
   "pygments_lexer": "ipython3",
   "version": "3.10.3"
  },
  "orig_nbformat": 4,
  "vscode": {
   "interpreter": {
    "hash": "369f2c481f4da34e4445cda3fffd2e751bd1c4d706f27375911949ba6bb62e1c"
   }
  }
 },
 "nbformat": 4,
 "nbformat_minor": 2
}
