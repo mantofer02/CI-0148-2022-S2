{
 "cells": [
  {
   "cell_type": "code",
   "execution_count": 1,
   "metadata": {},
   "outputs": [],
   "source": [
    "from PIL import Image\n",
    "import numpy as np\n",
    "import math\n",
    "import random\n",
    "import pandas as pd\n",
    "import webcolors\n",
    "import matplotlib.pyplot as plt\n",
    "import matplotlib.image as mpimg\n",
    "import seaborn as sns\n",
    "\n",
    "FOLDER_PATH = 'data/'"
   ]
  },
  {
   "cell_type": "code",
   "execution_count": 2,
   "metadata": {},
   "outputs": [],
   "source": [
    "def load_image(filename: str, resize: tuple):\n",
    "  img = Image.open(filename)\n",
    "  img = img.resize(resize)\n",
    "  return np.array(img).astype(np.float64)"
   ]
  },
  {
   "cell_type": "code",
   "execution_count": 3,
   "metadata": {},
   "outputs": [],
   "source": [
    "def euclidean_distance(p1, p2):\n",
    "    return math.sqrt(sum((px - qx) ** 2.0 for px, qx in zip(p1, p2)))"
   ]
  },
  {
   "cell_type": "code",
   "execution_count": 4,
   "metadata": {},
   "outputs": [],
   "source": [
    "def manhattan_distance(p1, p2):\n",
    "  return sum(abs(px - qx) for px, qx in zip(p1, p2))"
   ]
  },
  {
   "cell_type": "code",
   "execution_count": 5,
   "metadata": {},
   "outputs": [],
   "source": [
    "def nearest_centroid(point, centroids, distance):\n",
    "  flag = False\n",
    "  idx_centroid, min_distance = 0, 0\n",
    "\n",
    "  for i in range(len(centroids)):\n",
    "    current_distance = distance(point, centroids[i])\n",
    "    if not flag or current_distance <  min_distance:\n",
    "      flag = True\n",
    "      \n",
    "      idx_centroid = i\n",
    "      min_distance = current_distance\n",
    "\n",
    "  return idx_centroid, min_distance"
   ]
  },
  {
   "cell_type": "code",
   "execution_count": 6,
   "metadata": {},
   "outputs": [],
   "source": [
    "def lloyd(data, k, iters, type=\"means\", distance=\"euclidian\"):\n",
    "  distance_func = euclidean_distance if distance == \"euclidian\" else manhattan_distance\n",
    "\n",
    "  go = True\n",
    "  epoch_c = 0\n",
    "  error = 0\n",
    "\n",
    "  cluster_array = np.zeros(len(data))\n",
    "\n",
    "  centroids = random.choices(data, k=k)\n",
    "\n",
    "  while go:\n",
    "    for element, i in zip(data, range(len(cluster_array))):\n",
    "      idx_centroid, min_distance = nearest_centroid(\n",
    "        element, centroids, distance_func)\n",
    "\n",
    "      error += min_distance\n",
    "      cluster_array[i] = idx_centroid\n",
    "\n",
    "    if type == \"means\":\n",
    "      for i in range(k):\n",
    "        cluster_average = []\n",
    "        for element, j in zip(data, range(len(cluster_array))):\n",
    "          if cluster_array[j] == i:\n",
    "            cluster_average.append(element)\n",
    "\n",
    "        centroids[i] = np.average(cluster_average, axis=0)\n",
    "    \n",
    "    elif type == \"mediods\":\n",
    "        for element, i in zip(data, range(len(cluster_array))):\n",
    "          min_distance_array = np.zeros(k)\n",
    "          \n",
    "          distance = 0\n",
    "          for element_j, j in zip(data, range(len(cluster_array))):\n",
    "            if j is not i:\n",
    "              if cluster_array[j] == cluster_array[i]:\n",
    "                distance += distance_func(element, element_j)\n",
    "\n",
    "          \n",
    "          if min_distance_array[int(cluster_array[i])] == 0 or min_distance_array[int(cluster_array[i])] > distance:\n",
    "             min_distance_array[int(cluster_array[i])] = distance\n",
    "             centroids[int(cluster_array[i])] = element\n",
    "\n",
    "\n",
    "    epoch_c += 1\n",
    "    go = False if epoch_c > iters else True\n",
    "\n",
    "    return centroids, error\n",
    "\n"
   ]
  },
  {
   "cell_type": "code",
   "execution_count": 7,
   "metadata": {},
   "outputs": [],
   "source": [
    "\n",
    "def rgb2hex(r,g,b):\n",
    "    return \"#{:02x}{:02x}{:02x}\".format(r,g,b)"
   ]
  },
  {
   "cell_type": "code",
   "execution_count": 8,
   "metadata": {},
   "outputs": [],
   "source": [
    "def print_color(color_palette):\n",
    "  sample = []\n",
    "  for color in color_palette:\n",
    "    sample.append(rgb2hex(int(color[0]), int(color[1]), int(color[2])))\n",
    "\n",
    "  sns.palplot(sample)"
   ]
  },
  {
   "cell_type": "code",
   "execution_count": 9,
   "metadata": {},
   "outputs": [],
   "source": [
    "def closest_colour(requested_colour):\n",
    "    min_colours = {}\n",
    "    for key, name in webcolors.CSS3_HEX_TO_NAMES.items():\n",
    "        r_c, g_c, b_c = webcolors.hex_to_rgb(key)\n",
    "        rd = (r_c - requested_colour[0]) ** 2\n",
    "        gd = (g_c - requested_colour[1]) ** 2\n",
    "        bd = (b_c - requested_colour[2]) ** 2\n",
    "        min_colours[(rd + gd + bd)] = name\n",
    "    return min_colours[min(min_colours.keys())]"
   ]
  },
  {
   "cell_type": "code",
   "execution_count": 10,
   "metadata": {},
   "outputs": [],
   "source": [
    "def get_colour_name(requested_colour):\n",
    "    try:\n",
    "        closest_name = actual_name = webcolors.rgb_to_name(requested_colour)\n",
    "    except ValueError:\n",
    "        closest_name = closest_colour(requested_colour)\n",
    "        actual_name = None\n",
    "    return actual_name, closest_name"
   ]
  },
  {
   "cell_type": "code",
   "execution_count": 11,
   "metadata": {},
   "outputs": [
    {
     "name": "stdout",
     "output_type": "stream",
     "text": [
      "(None, 'chocolate')\n",
      "(None, 'maroon')\n",
      "(None, 'saddlebrown')\n",
      "(None, 'chocolate')\n",
      "(None, 'maroon')\n"
     ]
    }
   ],
   "source": [
    "img = \"img_01.png\"\n",
    "\n",
    "img_array = load_image(FOLDER_PATH + img, (128, 128))\n",
    "img_array = img_array.reshape(128*128, 3)\n",
    "\n",
    "color_palletes, error = lloyd(img_array, 5, 1e5, \"mediods\", \"euclidean\")\n",
    "\n",
    "for color in color_palletes:\n",
    "  print(get_colour_name(color))"
   ]
  },
  {
   "cell_type": "code",
   "execution_count": 12,
   "metadata": {},
   "outputs": [
    {
     "name": "stdout",
     "output_type": "stream",
     "text": [
      "Error: 281705.0\n"
     ]
    },
    {
     "data": {
      "image/png": "[encoded data removed]",
      "text/plain": [
       "<Figure size 500x100 with 1 Axes>"
      ]
     },
     "metadata": {},
     "output_type": "display_data"
    }
   ],
   "source": [
    "print_color(color_palletes)\n",
    "print(\"Error: \" + str(error))\n"
   ]
  },
  {
   "cell_type": "code",
   "execution_count": 13,
   "metadata": {},
   "outputs": [
    {
     "name": "stdout",
     "output_type": "stream",
     "text": [
      "(None, 'mediumorchid')\n",
      "(None, 'darkslategray')\n",
      "(None, 'darkslateblue')\n",
      "(None, 'purple')\n",
      "(None, 'darkslategray')\n"
     ]
    }
   ],
   "source": [
    "img = \"img_02.png\"\n",
    "\n",
    "img_array = load_image(FOLDER_PATH + img, (128, 128))\n",
    "img_array = img_array.reshape(128*128, 3)\n",
    "\n",
    "color_palletes, error = lloyd(img_array, 5, 1e5, type=\"means\", distance=\"euclidian\")\n",
    "\n",
    "for color in color_palletes:\n",
    "  print(get_colour_name(color))"
   ]
  },
  {
   "cell_type": "code",
   "execution_count": 14,
   "metadata": {},
   "outputs": [
    {
     "name": "stdout",
     "output_type": "stream",
     "text": [
      "Error: 531921.678212138\n"
     ]
    },
    {
     "data": {
      "image/png": "[encoded data removed]",
      "text/plain": [
       "<Figure size 500x100 with 1 Axes>"
      ]
     },
     "metadata": {},
     "output_type": "display_data"
    }
   ],
   "source": [
    "print_color(color_palletes)\n",
    "print(\"Error: \" + str(error))"
   ]
  },
  {
   "cell_type": "code",
   "execution_count": 15,
   "metadata": {},
   "outputs": [
    {
     "name": "stdout",
     "output_type": "stream",
     "text": [
      "(None, 'darkolivegreen')\n",
      "(None, 'rosybrown')\n",
      "(None, 'silver')\n",
      "(None, 'darkkhaki')\n",
      "(None, 'gray')\n"
     ]
    }
   ],
   "source": [
    "img = \"img_03.png\"\n",
    "\n",
    "img_array = load_image(FOLDER_PATH + img, (128, 128))\n",
    "img_array = img_array.reshape(128*128, 3)\n",
    "\n",
    "color_palletes, error = lloyd(img_array, 5, 1e5, type=\"means\", distance=\"manhattan\")\n",
    "\n",
    "for color in color_palletes:\n",
    "  print(get_colour_name(color))"
   ]
  },
  {
   "cell_type": "code",
   "execution_count": 16,
   "metadata": {},
   "outputs": [
    {
     "name": "stdout",
     "output_type": "stream",
     "text": [
      "Error: 776973.0\n"
     ]
    },
    {
     "data": {
      "image/png": "[encoded data removed]",
      "text/plain": [
       "<Figure size 500x100 with 1 Axes>"
      ]
     },
     "metadata": {},
     "output_type": "display_data"
    }
   ],
   "source": [
    "print_color(color_palletes)\n",
    "print(\"Error: \" + str(error))"
   ]
  },
  {
   "cell_type": "code",
   "execution_count": 18,
   "metadata": {},
   "outputs": [
    {
     "name": "stdout",
     "output_type": "stream",
     "text": [
      "(None, 'lightslategray')\n",
      "(None, 'darkslategray')\n",
      "(None, 'darkslategray')\n",
      "(None, 'tomato')\n",
      "(None, 'crimson')\n"
     ]
    }
   ],
   "source": [
    "img = \"img_04.png\"\n",
    "\n",
    "img_array = load_image(FOLDER_PATH + img, (128, 128))\n",
    "img_array = img_array.reshape(128*128, 3)\n",
    "\n",
    "color_palletes, error = lloyd(img_array, 5, 1e5, type=\"mediods\", distance=\"manhattan\")\n",
    "\n",
    "for color in color_palletes:\n",
    "  print(get_colour_name(color))"
   ]
  },
  {
   "cell_type": "code",
   "execution_count": 19,
   "metadata": {},
   "outputs": [
    {
     "name": "stdout",
     "output_type": "stream",
     "text": [
      "Error: 1159628.0\n"
     ]
    },
    {
     "data": {
      "image/png": "[encoded data removed]",
      "text/plain": [
       "<Figure size 500x100 with 1 Axes>"
      ]
     },
     "metadata": {},
     "output_type": "display_data"
    }
   ],
   "source": [
    "print_color(color_palletes)\n",
    "print(\"Error: \" + str(error))"
   ]
  },
  {
   "cell_type": "code",
   "execution_count": 20,
   "metadata": {},
   "outputs": [
    {
     "name": "stdout",
     "output_type": "stream",
     "text": [
      "(None, 'black')\n",
      "(None, 'darkslategray')\n",
      "(None, 'darkslategray')\n",
      "(None, 'black')\n",
      "(None, 'gray')\n"
     ]
    }
   ],
   "source": [
    "img = \"img_05.png\"\n",
    "\n",
    "img_array = load_image(FOLDER_PATH + img, (128, 128))\n",
    "img_array = img_array.reshape(128*128, 3)\n",
    "\n",
    "color_palletes, error = lloyd(img_array, 5, 1e5, type=\"means\", distance=\"euclidean\")\n",
    "\n",
    "for color in color_palletes:\n",
    "  print(get_colour_name(color))"
   ]
  },
  {
   "cell_type": "code",
   "execution_count": 21,
   "metadata": {},
   "outputs": [
    {
     "name": "stdout",
     "output_type": "stream",
     "text": [
      "Error: 744214.0\n"
     ]
    },
    {
     "data": {
      "image/png": "[encoded data removed]",
      "text/plain": [
       "<Figure size 500x100 with 1 Axes>"
      ]
     },
     "metadata": {},
     "output_type": "display_data"
    }
   ],
   "source": [
    "print_color(color_palletes)\n",
    "print(\"Error: \" + str(error))"
   ]
  },
  {
   "cell_type": "markdown",
   "metadata": {},
   "source": [
    "A lo largo de la expirentación, el algoritmo con parametros means y con el cálculo de distancia euclidiana fue el que posee menos tasa de error. Sin embargo, cabe destacar que, aunque el de mediods tiende a ser \"más preciso\" al destacar los diferentes colores. "
   ]
  },
  {
   "cell_type": "markdown",
   "metadata": {},
   "source": []
  }
 ],
 "metadata": {
  "kernelspec": {
   "display_name": "Python 3.10.3 64-bit",
   "language": "python",
   "name": "python3"
  },
  "language_info": {
   "codemirror_mode": {
    "name": "ipython",
    "version": 3
   },
   "file_extension": ".py",
   "mimetype": "text/x-python",
   "name": "python",
   "nbconvert_exporter": "python",
   "pygments_lexer": "ipython3",
   "version": "3.10.3"
  },
  "orig_nbformat": 4,
  "vscode": {
   "interpreter": {
    "hash": "369f2c481f4da34e4445cda3fffd2e751bd1c4d706f27375911949ba6bb62e1c"
   }
  }
 },
 "nbformat": 4,
 "nbformat_minor": 2
}
