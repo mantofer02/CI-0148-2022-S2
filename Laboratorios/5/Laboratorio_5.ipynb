{
 "cells": [
  {
   "cell_type": "code",
   "execution_count": null,
   "metadata": {},
   "outputs": [],
   "source": [
    "import torch\n",
    "import matplotlib.pyplot as plt\n",
    "import numpy as np\n",
    "import pickle\n",
    "\n",
    "DIRECTORY = 'data'\n",
    "\n",
    "device = torch.device(\"cuda:0\" if torch.cuda.is_available() else \"cpu\")\n",
    "device"
   ]
  },
  {
   "cell_type": "code",
   "execution_count": null,
   "metadata": {},
   "outputs": [],
   "source": [
    "def load_data():\n",
    "    def unpickle(file):\n",
    "        with open(file, 'rb') as fo:\n",
    "            dict = pickle.load(fo, encoding='bytes')\n",
    "        return dict\n",
    "    names = [n.decode('utf-8')\n",
    "             for n in unpickle(DIRECTORY + \"/batches.meta\")[b'label_names']]\n",
    "    x_train = None\n",
    "    y_train = []\n",
    "\n",
    "    for i in range(1, 2):\n",
    "        data = unpickle(DIRECTORY + \"/data_batch_\" + str(i))\n",
    "        if i > 1:\n",
    "            x_train = np.append(x_train, data[b'data'], axis=0)\n",
    "        else:\n",
    "            x_train = data[b'data']\n",
    "        y_train += data[b'labels']\n",
    "\n",
    "    data = unpickle(DIRECTORY + \"/test_batch\")\n",
    "\n",
    "    x_test = data[b'data']\n",
    "    y_test = data[b'labels']\n",
    "\n",
    "    return names, x_train, y_train, x_test, y_test\n"
   ]
  },
  {
   "cell_type": "code",
   "execution_count": null,
   "metadata": {},
   "outputs": [],
   "source": [
    "def plot_tensor(tensor, perm=None):\n",
    "    if perm == None:\n",
    "        perm = (1, 2, 0)\n",
    "    plt.figure()\n",
    "    plt.imshow(tensor.permute(perm).cpu().numpy().astype(np.uint8))\n",
    "    plt.show()\n"
   ]
  },
  {
   "cell_type": "code",
   "execution_count": null,
   "metadata": {},
   "outputs": [],
   "source": [
    "names, x_train, y_train, x_test, y_test = load_data()\n",
    "names"
   ]
  },
  {
   "cell_type": "code",
   "execution_count": null,
   "metadata": {},
   "outputs": [],
   "source": [
    "x_train_tensors = torch.tensor(x_train).to(device)\n",
    "y_train_tensors = torch.tensor(y_train).to(device)\n",
    "x_train_tensors = torch.reshape(x_train_tensors, [10000, 3, 32, 32])\n",
    "x_test_tensors = torch.tensor(x_train).to(device)\n",
    "y_test_tensors = torch.tensor(y_train).to(device)\n",
    "x_test_tensors = torch.reshape(x_test_tensors, [10000, 3, 32, 32])\n",
    "\n",
    "x_test_tensors.shape\n"
   ]
  },
  {
   "cell_type": "code",
   "execution_count": null,
   "metadata": {},
   "outputs": [],
   "source": [
    "from torch.nn import Module\n",
    "from torch.nn import Conv2d\n",
    "from torch.nn import Linear\n",
    "from torch.nn import MaxPool2d\n",
    "from torch.nn import Sigmoid\n",
    "from torch.nn import LogSoftmax\n",
    "from torch import flatten\n",
    "\n",
    "class Net(Module):\n",
    "  def __init__(self, num_channels, classes) -> None:\n",
    "    super(Net, self).__init__()\n",
    "    \n",
    "    # first set | conv_layer -> relu -> pool\n",
    "    self.conv1 = Conv2d(in_channels=num_channels, out_channels=6, kernel_size=(3, 3), padding='same')\n",
    "    self.sig1 = Sigmoid()\n",
    "    self.maxpool1 = MaxPool2d(kernel_size=(2, 2), stride=(2, 2))\n",
    "\n",
    "    # second set | conv -> relu -> pool\n",
    "    self.conv2 = Conv2d(in_channels=6, out_channels=9, kernel_size=(5, 5), padding='same')\n",
    "    self.sig2 = Sigmoid()\n",
    "    self.maxpool2 = MaxPool2d(kernel_size=(2, 2), stride=(2, 2))\n",
    "\n",
    "    # initializa fully connected layer\n",
    "    self.fc1 = Linear(in_features=576, out_features=1000)\n",
    "    self.sig3 = Sigmoid()\n",
    "\n",
    "    # initialize softmax classifier\n",
    "    self.fc2 = Linear(in_features=1000, out_features=classes)\n",
    "    self.log_soft_max = LogSoftmax(dim=1)\n",
    "\n",
    "  def forward(self, x):\n",
    "    # the x data passes through our first set \n",
    "    # conv -> relu -> pool layers\n",
    "    x = self.conv1(x)\n",
    "    x = self.sig1(x)\n",
    "    x = self.maxpool1(x)\n",
    "\n",
    "    # passes the output from previous layer to through the second\n",
    "\n",
    "    x = self.conv2(x)\n",
    "    x = self.sig2(x)\n",
    "    x = self.maxpool2(x)\n",
    "\n",
    "    # flatten the output and passes it\n",
    "    x = flatten(x, 1)\n",
    "    x = self.fc1(x)\n",
    "    x = self.sig3(x)\n",
    "\n",
    "    # pass the output to our softmax to get our final output\n",
    "    x = self.fc2(x)\n",
    "    return self.log_soft_max(x)"
   ]
  },
  {
   "cell_type": "code",
   "execution_count": null,
   "metadata": {},
   "outputs": [],
   "source": [
    "def get_max(output):\n",
    "  return torch.argmax(output, dim=1)"
   ]
  },
  {
   "cell_type": "code",
   "execution_count": null,
   "metadata": {},
   "outputs": [],
   "source": [
    "import torch.optim as optim\n",
    "from torch import nn\n",
    "\n",
    "net = Net(num_channels=3, classes=10)\n",
    "net.to(device)\n",
    "\n",
    "criterion = nn.CrossEntropyLoss()\n",
    "optimizer = optim.SGD(net.parameters(), lr=1e-5, momentum=0.9999)"
   ]
  },
  {
   "cell_type": "code",
   "execution_count": null,
   "metadata": {},
   "outputs": [],
   "source": [
    "\n",
    "loss_val = 0.0\n",
    "\n",
    "for e in range(150):\n",
    "  net.train()\n",
    "\n",
    "  pred = net(x_train_tensors.float())\n",
    "\n",
    "  # total_train_loss = 0\n",
    "  # total_val_loss = 0\n",
    "\n",
    "  # train_correct = 0\n",
    "  # val_correct = 0\n",
    "\n",
    "  loss = criterion(pred, y_train_tensors)\n",
    "  loss.backward()\n",
    "\n",
    "  optimizer.step()\n",
    "\n",
    "get_max(pred)"
   ]
  },
  {
   "cell_type": "code",
   "execution_count": null,
   "metadata": {},
   "outputs": [],
   "source": [
    "y_train_tensors"
   ]
  },
  {
   "cell_type": "code",
   "execution_count": null,
   "metadata": {},
   "outputs": [],
   "source": [
    "plot_tensor(x_train_tensors[1])"
   ]
  }
 ],
 "metadata": {
  "kernelspec": {
   "display_name": "Python 3.10.3 64-bit",
   "language": "python",
   "name": "python3"
  },
  "language_info": {
   "codemirror_mode": {
    "name": "ipython",
    "version": 3
   },
   "file_extension": ".py",
   "mimetype": "text/x-python",
   "name": "python",
   "nbconvert_exporter": "python",
   "pygments_lexer": "ipython3",
   "version": "3.10.3"
  },
  "orig_nbformat": 4,
  "vscode": {
   "interpreter": {
    "hash": "369f2c481f4da34e4445cda3fffd2e751bd1c4d706f27375911949ba6bb62e1c"
   }
  }
 },
 "nbformat": 4,
 "nbformat_minor": 2
}
