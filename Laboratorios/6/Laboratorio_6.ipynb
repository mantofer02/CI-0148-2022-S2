{
  "cells": [
    {
      "cell_type": "markdown",
      "metadata": {
        "id": "FbnqmEMV9ksq"
      },
      "source": [
        "# `Laboratorio 6 | Machine Learning`\n",
        "* Marco Ferraro | B82957\n",
        "* Roy Padilla | B85854"
      ]
    },
    {
      "cell_type": "markdown",
      "metadata": {
        "id": "9fhum9aL-7pR"
      },
      "source": [
        "Descarga del dataset"
      ]
    },
    {
      "cell_type": "code",
      "execution_count": 230,
      "metadata": {
        "id": "WFPLbAUp9ayJ"
      },
      "outputs": [],
      "source": [
        "import torchvision\n",
        "\n",
        "# Descarga del set de datos\n",
        "train = torchvision.datasets.MNIST(\".\", download=True)\n",
        "\n",
        "# Extracción de datos\n",
        "x = train.data.float()\n",
        "y = train.targets"
      ]
    },
    {
      "cell_type": "markdown",
      "metadata": {},
      "source": [
        "Clase para manejar el dataset"
      ]
    },
    {
      "cell_type": "code",
      "execution_count": 231,
      "metadata": {},
      "outputs": [],
      "source": [
        "import torch\n",
        "\n",
        "class Dset(torch.utils.data.Dataset):\n",
        "    def __init__(self, x, y):\n",
        "        self.x = x\n",
        "        self.y = y\n",
        "        self.n_samples = x.shape[0]\n",
        "    \n",
        "    def __getitem__(self, index):\n",
        "        return self.x[index], self.y[index]\n",
        "    \n",
        "    def __len__(self):\n",
        "        return self.n_samples"
      ]
    },
    {
      "cell_type": "markdown",
      "metadata": {},
      "source": [
        "Pruebas de mostrado de imágenes"
      ]
    },
    {
      "cell_type": "code",
      "execution_count": 232,
      "metadata": {},
      "outputs": [
        {
          "data": {
            "image/png": "[encoded data removed]",
            "text/plain": [
              "<Figure size 432x288 with 1 Axes>"
            ]
          },
          "metadata": {
            "needs_background": "light"
          },
          "output_type": "display_data"
        }
      ],
      "source": [
        "import matplotlib.pyplot as plt\n",
        "import numpy as np\n",
        "from torch import flatten\n",
        "\n",
        "def plot_image(img,save=False,name=None):\n",
        "    cmap = 'gray' if img.shape[0]==1 else None\n",
        "    data = (img.detach()*(255 if img.max()<=1 else 1)).permute((1,2,0)).numpy().astype(np.uint8)\n",
        "    plt.figure()\n",
        "    plt.imshow(data,cmap=cmap)\n",
        "    plt.show()\n",
        "    if save:\n",
        "        if img.shape[0]==1:\n",
        "            plt.imsave(name, data.squeeze(), cmap=cmap)\n",
        "        else:\n",
        "            plt.imsave(name, data, cmap=cmap)\n",
        "\n",
        "img_number = 0\n",
        "img = x[img_number]\n",
        "plot_image( img[None, :], True, '{}.png'.format(img_number))"
      ]
    },
    {
      "cell_type": "markdown",
      "metadata": {},
      "source": [
        "Filtrado de las imágenes\n"
      ]
    },
    {
      "cell_type": "code",
      "execution_count": 233,
      "metadata": {},
      "outputs": [
        {
          "data": {
            "image/png": "[encoded data removed]",
            "text/plain": [
              "<Figure size 432x288 with 1 Axes>"
            ]
          },
          "metadata": {
            "needs_background": "light"
          },
          "output_type": "display_data"
        }
      ],
      "source": [
        "from torch import nonzero\n",
        "\n",
        "target_number = 9\n",
        "\n",
        "indeces = y == target_number\n",
        "\n",
        "x_true = x[nonzero(indeces)]\n",
        "\n",
        "img_number = 1378\n",
        "img = x_true[img_number]\n",
        "plot_image( img, True, '{}.png'.format(img_number))\n"
      ]
    },
    {
      "cell_type": "markdown",
      "metadata": {},
      "source": [
        "`Clase Classifier`: \n",
        "Se va a encarga de determinar si una imagen es o no perteneciente a un dígito en específico o no"
      ]
    },
    {
      "cell_type": "code",
      "execution_count": 234,
      "metadata": {},
      "outputs": [],
      "source": [
        "from torch import nn, flatten, tensor, cat, device, ones, zeros\n",
        "from torch.utils.data import Dataset, DataLoader\n",
        "import torch.nn.functional as F\n",
        "import numpy as np\n",
        "from sklearn.metrics import classification_report, accuracy_score\n",
        "\n",
        "DEVICE = device(\"cuda:0\")\n",
        "\n",
        "class Classifier(nn.Module):\n",
        "    def __init__(self):\n",
        "        super().__init__()\n",
        "        # Primera convolución\n",
        "        # Entra una imagen 1x28x28\n",
        "        self.conv1 =  nn.Conv2d(in_channels = 1, out_channels = 4, kernel_size = (3,3), stride = 1, padding = 'same')\n",
        "        # Sale una imagen de 4x28x28\n",
        "        self.relu1 = nn.ReLU()\n",
        "        self.maxpool1 = nn.MaxPool2d(2)\n",
        "        # img de 4x14x14 => 784\n",
        "\n",
        "        # Red neuronal\n",
        "        self.fc1 = nn.Linear(784, 600)\n",
        "        self.act1 = nn.ReLU()\n",
        "        self.fc2 = nn.Linear(600, 1) # Salida de si es el dígito o no => 1 = Verdadera | 0 = Falso\n",
        "        self.act2 = nn.Sigmoid()\n",
        "\n",
        "        # Dropout (opcional)\n",
        "        self.dropout = nn.Dropout(p = 0.2)\n",
        "    \n",
        "    def forward(self, x):\n",
        "        ''' \n",
        "            Sobre-escritura del método de forward propagation, aplicando las capas convolucionales\n",
        "            y luego las capas densas de la red neuronal\n",
        "        '''\n",
        "        # Aplicación de las convoluciones\n",
        "        x = self.conv1(x)\n",
        "        x = self.relu1(x)\n",
        "        x = self.maxpool1(x)\n",
        "\n",
        "        x = flatten(x, 1)\n",
        "\n",
        "        # Capas densas\n",
        "        x = self.act1(self.fc1(x))\n",
        "        out = self.act2(self.fc2(x))\n",
        "\n",
        "        return out\n",
        "\n",
        "    \n",
        "def train_classifier(opt, model, x_true, x_false, accuracy=None, max_iters=100, batch_size=1000):\n",
        "    '''\n",
        "        Método de entrenamiento del clasificador donde se toma el conjunto x de imágenes verdades\n",
        "        y el conjunto de imágenes falsas generadas por el generador para que determine si es o no\n",
        "        el dígito objetivo.\n",
        "    '''\n",
        "    iter_counter = 0\n",
        "    model_accuracy = 0\n",
        "    finish_by_accueracy = False\n",
        "    loss_func = nn.BCELoss() # Binary Cross Entropy\n",
        "\n",
        "    losses = []\n",
        "    accuracies = []\n",
        "    while (iter_counter < max_iters and not(finish_by_accueracy)):\n",
        "        iter_loss = []\n",
        "        iter_accuracy = []\n",
        "        # Generación aleatoria de los índices para utilizar en el entrenamiento\n",
        "        true_batch = np.random.randint(0, x_true.shape[0], batch_size)\n",
        "        false_batch = np.random.randint(0, x_false.shape[0], batch_size)\n",
        "\n",
        "        # Obtención del conjunto de entrenamiento\n",
        "        # conjunto para predecir 1\n",
        "        # conjunto para predecir 0\n",
        "        \n",
        "        X_train = cat((x_true[true_batch], x_false[false_batch])).to( device=DEVICE)\n",
        "        y_train = cat((ones(batch_size) , zeros(batch_size))).to( device=DEVICE)\n",
        "\n",
        "        train_dset = Dset(X_train, y_train)\n",
        "        train_loader = DataLoader(dataset= train_dset, batch_size = batch_size, shuffle=False)\n",
        "        # torch.cuda.empty_cache()\n",
        "        # Entrenamiento\n",
        "        model = model.to(DEVICE)\n",
        "        model.train()\n",
        "        for i, (inputs, labels) in enumerate(train_loader):\n",
        "            (inputs, labels) = (inputs.to(DEVICE), labels.to(DEVICE))\n",
        "            y_pred = model( inputs.detach() )\n",
        "            loss = loss_func(y_pred, labels[:, None])\n",
        "            \n",
        "            opt.zero_grad()\n",
        "            loss.backward()\n",
        "            opt.step()\n",
        "            \n",
        "            y_pred = y_pred > 0.5\n",
        "            iter_loss.append(loss.item())\n",
        "\n",
        "            iter_accuracy.append(accuracy_score(  labels[:, None].cpu() , y_pred.detach().cpu()))\n",
        "        \n",
        "        losses.append( np.array(iter_loss).mean())\n",
        "        model_accuracy = np.array(iter_accuracy).mean()\n",
        "        accuracies.append(model_accuracy)\n",
        "        \n",
        "        finish_by_accueracy = True if accuracy == None else model_accuracy > accuracy\n",
        "        iter_counter += 1\n",
        "    model.eval()\n",
        "    y_pred = model(train_dset.x) > 0.5\n",
        "\n",
        "    print(classification_report(train_dset.y.cpu(), y_pred.detach().cpu(), target_names=['Falsa','Real']))\n",
        "    print('Last loss:', losses[-1])\n",
        "        \n",
        "    # Impresión de gráficos y resultados del modelo\n",
        "    len_ = len(losses)\n",
        "    xpoints = np.linspace(0, len_, num = len_)\n",
        "    plt.plot(xpoints, losses)\n",
        "    plt.xlabel(\"Epochs\")\n",
        "    plt.ylabel(\"Loss\")\n",
        "    plt.title((\"Pérdida del clasificador con {} iteraciones\".format(iter_counter) ))\n",
        "    plt.show()\n",
        "\n",
        "    len_ = len(accuracies)\n",
        "    xpoints = np.linspace(0, len_, num = len_)\n",
        "    plt.plot(xpoints, accuracies)\n",
        "    plt.xlabel(\"Epochs\")\n",
        "    plt.ylabel(\"Accuracy\")\n",
        "    plt.title((\"Accuracy del clasificador con {} iteraciones\".format(iter_counter) ))\n",
        "    plt.show()   \n",
        "            "
      ]
    },
    {
      "cell_type": "code",
      "execution_count": 235,
      "metadata": {},
      "outputs": [],
      "source": [
        "import torch.nn.functional as F\n",
        "\n",
        "\n",
        "class Generator(nn.Module):\n",
        "  def __init__(self, input_dim, output_dim=784):\n",
        "    super(Generator, self).__init__()\n",
        "    \n",
        "    # 5 Fully connected layers\n",
        "    self.fc1 = nn.Linear(input_dim, 256)\n",
        "    self.fc2 = nn.Linear(self.fc1.out_features, self.fc1.out_features * 2)\n",
        "    self.fc3 = nn.Linear(self.fc2.out_features, self.fc2.out_features * 2)\n",
        "    self.fc4 = nn.Linear(self.fc3.out_features, self.fc3.out_features * 2)\n",
        "    self.fc5 = nn.Linear(self.fc4.out_features, output_dim)\n",
        "    self.act5 = nn.Sigmoid()\n",
        "\n",
        "  def forward(self, x):\n",
        "    x = torch.sigmoid(self.fc1(x))\n",
        "    x = torch.sigmoid(self.fc2(x))\n",
        "    x = torch.sigmoid(self.fc3(x))\n",
        "    x = torch.sigmoid(self.fc4(x))\n",
        "    x = torch.sigmoid(self.fc5(x))\n",
        "\n",
        "    return self.act5(x)#torch.nn.Sigmoid(x) # LogSoftmax(x)"
      ]
    },
    {
      "cell_type": "markdown",
      "metadata": {},
      "source": [
        "Generator Training"
      ]
    },
    {
      "cell_type": "code",
      "execution_count": 236,
      "metadata": {},
      "outputs": [],
      "source": [
        "from torch.autograd import Variable\n",
        "import torch.optim as optim\n",
        "\n",
        "batch_size = 1\n",
        "input_dim = 150\n",
        "lr = 2e-4\n",
        "\n",
        "gen = Generator(input_dim=input_dim).to(DEVICE)\n",
        "gen_optimizer = optim.Adam(gen.parameters(), lr=lr)\n",
        "criterion = nn.BCELoss() \n",
        "\n",
        "for e in range(100):\n",
        "  gen.zero_grad()\n",
        "\n",
        "  x = Variable(torch.randn(batch_size, input_dim).to(DEVICE))\n",
        "  y = Variable(torch.ones(batch_size, 1).to(DEVICE))\n",
        "\n",
        "  g_output = gen(x)\n",
        "  # discrimitor output\n",
        "  # gen loss = criterion(discrimator, y)\n",
        "\n",
        "  # gen loss.backward\n",
        "\n",
        "  gen_optimizer.step()\n",
        "\n"
      ]
    },
    {
      "cell_type": "code",
      "execution_count": 237,
      "metadata": {},
      "outputs": [
        {
          "name": "stdout",
          "output_type": "stream",
          "text": [
            "              precision    recall  f1-score   support\n",
            "\n",
            "       Falsa       1.00      1.00      1.00      1000\n",
            "        Real       1.00      1.00      1.00      1000\n",
            "\n",
            "    accuracy                           1.00      2000\n",
            "   macro avg       1.00      1.00      1.00      2000\n",
            "weighted avg       1.00      1.00      1.00      2000\n",
            "\n",
            "Last loss: 0.07566969920299016\n"
          ]
        },
        {
          "data": {
            "image/png": "[encoded data removed]",
            "text/plain": [
              "<Figure size 432x288 with 1 Axes>"
            ]
          },
          "metadata": {
            "needs_background": "light"
          },
          "output_type": "display_data"
        },
        {
          "data": {
            "image/png": "[encoded data removed]",
            "text/plain": [
              "<Figure size 432x288 with 1 Axes>"
            ]
          },
          "metadata": {
            "needs_background": "light"
          },
          "output_type": "display_data"
        }
      ],
      "source": [
        "from torch import optim\n",
        "from torch import tensor\n",
        "\n",
        "classifier = Classifier().to(DEVICE)\n",
        "\n",
        "opt = optim.Adadelta(classifier.parameters(), lr= 0.005)\n",
        "\n",
        "x_false = torch.randn(x_true.shape[0], input_dim).to(DEVICE)\n",
        "x_true = x_true.to(DEVICE)\n",
        "train_classifier(opt=opt, model = classifier, x_true = x_true, x_false = gen(x_false).reshape(x_true.shape), accuracy = 1, max_iters= 300)"
      ]
    }
  ],
  "metadata": {
    "colab": {
      "provenance": []
    },
    "kernelspec": {
      "display_name": "Python 3.10.3 64-bit",
      "language": "python",
      "name": "python3"
    },
    "language_info": {
      "codemirror_mode": {
        "name": "ipython",
        "version": 3
      },
      "file_extension": ".py",
      "mimetype": "text/x-python",
      "name": "python",
      "nbconvert_exporter": "python",
      "pygments_lexer": "ipython3",
      "version": "3.10.3"
    },
    "vscode": {
      "interpreter": {
        "hash": "369f2c481f4da34e4445cda3fffd2e751bd1c4d706f27375911949ba6bb62e1c"
      }
    }
  },
  "nbformat": 4,
  "nbformat_minor": 0
}
