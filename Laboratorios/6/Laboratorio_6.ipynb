{
  "cells": [
    {
      "cell_type": "markdown",
      "metadata": {
        "id": "FbnqmEMV9ksq"
      },
      "source": [
        "# `Laboratorio 6 | Machine Learning`\n",
        "* Marco Ferraro | B82957\n",
        "* Roy Padilla | B85854"
      ]
    },
    {
      "cell_type": "markdown",
      "metadata": {
        "id": "9fhum9aL-7pR"
      },
      "source": [
        "Descarga del dataset"
      ]
    },
    {
      "cell_type": "code",
      "execution_count": 55,
      "metadata": {
        "id": "WFPLbAUp9ayJ"
      },
      "outputs": [],
      "source": [
        "import torchvision\n",
        "\n",
        "# Descarga del set de datos\n",
        "train = torchvision.datasets.MNIST(\".\", download=True)\n",
        "\n",
        "# Extracción de datos\n",
        "x = train.data.float()\n",
        "y = train.targets"
      ]
    },
    {
      "cell_type": "markdown",
      "metadata": {},
      "source": [
        "Clase para manejar el dataset"
      ]
    },
    {
      "cell_type": "code",
      "execution_count": 56,
      "metadata": {},
      "outputs": [],
      "source": [
        "import torch\n",
        "\n",
        "class Dset(torch.utils.data.Dataset):\n",
        "    def __init__(self, x, y):\n",
        "        self.x = x\n",
        "        self.y = y\n",
        "        self.n_samples = x.shape[0]\n",
        "    \n",
        "    def __getitem__(self, index):\n",
        "        return self.x[index], self.y[index]\n",
        "    \n",
        "    def __len__(self):\n",
        "        return self.n_samples"
      ]
    },
    {
      "cell_type": "markdown",
      "metadata": {},
      "source": [
        "Pruebas de mostrado de imágenes"
      ]
    },
    {
      "cell_type": "code",
      "execution_count": 57,
      "metadata": {},
      "outputs": [
        {
          "data": {
            "image/png": "[encoded data removed]",
            "text/plain": [
              "<Figure size 640x480 with 1 Axes>"
            ]
          },
          "metadata": {},
          "output_type": "display_data"
        }
      ],
      "source": [
        "import matplotlib.pyplot as plt\n",
        "import numpy as np\n",
        "from torch import flatten\n",
        "\n",
        "def plot_image(img,save=False,name=None):\n",
        "    cmap = 'gray' if img.shape[0]==1 else None\n",
        "    data = (img.detach()*(255 if img.max()<=1 else 1)).permute((1,2,0)).numpy().astype(np.uint8)\n",
        "    plt.figure()\n",
        "    plt.imshow(data,cmap=cmap)\n",
        "    plt.show()\n",
        "    if save:\n",
        "        if img.shape[0]==1:\n",
        "            plt.imsave(name, data.squeeze(), cmap=cmap)\n",
        "        else:\n",
        "            plt.imsave(name, data, cmap=cmap)\n",
        "\n",
        "img_number = 0\n",
        "img = x[img_number]\n",
        "plot_image( img[None, :], True, '{}.png'.format(img_number))"
      ]
    },
    {
      "cell_type": "markdown",
      "metadata": {},
      "source": [
        "Filtrado de las imágenes\n"
      ]
    },
    {
      "cell_type": "code",
      "execution_count": 58,
      "metadata": {},
      "outputs": [
        {
          "data": {
            "image/png": "[encoded data removed]",
            "text/plain": [
              "<Figure size 640x480 with 1 Axes>"
            ]
          },
          "metadata": {},
          "output_type": "display_data"
        }
      ],
      "source": [
        "from torch import nonzero\n",
        "\n",
        "target_number = 9\n",
        "\n",
        "indeces = y == target_number\n",
        "\n",
        "x_true = x[nonzero(indeces)]\n",
        "\n",
        "img_number = 1378\n",
        "img = x_true[img_number]\n",
        "plot_image( img, True, '{}.png'.format(img_number))\n"
      ]
    },
    {
      "cell_type": "markdown",
      "metadata": {},
      "source": [
        "`Clase Classifier`: \n",
        "Se va a encarga de determinar si una imagen es o no perteneciente a un dígito en específico o no"
      ]
    },
    {
      "cell_type": "code",
      "execution_count": 59,
      "metadata": {},
      "outputs": [],
      "source": [
        "from torch import nn, flatten, tensor, cat, device, ones, zeros\n",
        "from torch.utils.data import Dataset, DataLoader\n",
        "import torch.nn.functional as F\n",
        "\n",
        "DEVICE = device(\"cuda:0\")\n",
        "\n",
        "class Classifier(nn.Module):\n",
        "    def __init__(self):\n",
        "        super().__init__()\n",
        "        # Primera convolución\n",
        "        # Entra una imagen 1x28x28\n",
        "        self.conv1 =  nn.Conv2d(in_channels = 1, out_channels = 4, kernel_size = (3,3), stride = 1, padding = 'same')\n",
        "        # Sale una imagen de 4x28x28\n",
        "        self.relu1 = nn.ReLU()\n",
        "        self.maxpool1 = nn.MaxPool2d(2)\n",
        "        # img de 4x14x14 => 784\n",
        "\n",
        "        # Red neuronal\n",
        "        self.fc1 = nn.Linear(784, 600)\n",
        "        self.act1 = nn.ReLU()\n",
        "        self.fc2 = nn.Linear(600, 1) # Salida de si es el dígito o no => 1 = Verdadera | 0 = Falso\n",
        "        self.act2 = nn.Sigmoid()\n",
        "\n",
        "        # Dropout (opcional)\n",
        "        self.dropout = nn.Dropout(p = 0.2)\n",
        "    \n",
        "    def forward(self, x):\n",
        "        ''' \n",
        "            Sobre-escritura del método de forward propagation, aplicando las capas convolucionales\n",
        "            y luego las capas densas de la red neuronal\n",
        "        '''\n",
        "        # Aplicación de las convoluciones\n",
        "        x = self.conv1(x)\n",
        "        x = self.relu1(x)\n",
        "        x = self.maxpool1(x)\n",
        "\n",
        "        x = flatten(x, 1)\n",
        "\n",
        "        # Capas densas\n",
        "        x = self.act1(self.fc1(x))\n",
        "        out = self.act2(self.fc2(x))\n",
        "\n",
        "        return out\n",
        "\n",
        "    \n",
        "def train_classifier(opt, model, x_true, x_false, accuracy=None, max_iters=100, batch_size=1000):\n",
        "    '''\n",
        "        Método de entrenamiento del clasificador donde se toma el conjunto x de imágenes verdades\n",
        "        y el conjunto de imágenes falsas generadas por el generador para que determine si es o no\n",
        "        el dígito objetivo.\n",
        "    '''\n",
        "    iter_counter = 0\n",
        "    model_accuracy = 0\n",
        "    finish_by_accueracy = False\n",
        "    loss_func = nn.BCELoss() # Binary Cross Entropy\n",
        "\n",
        "    losses = []\n",
        "    while (iter_counter < max_iters and not(finish_by_accueracy)):\n",
        "        # Generación aleatoria de los índices para utilizar en el entrenamiento\n",
        "        true_batch = np.random.randint(0, x_true.shape[0], batch_size)\n",
        "        false_batch = np.random.randint(0, x_false.shape[0], batch_size)\n",
        "\n",
        "        # Obtención del conjunto de entrenamiento\n",
        "        # conjunto para predecir 1\n",
        "        # conjunto para predecir 0\n",
        "        \n",
        "        X_train = tensor(data= cat((x_true[true_batch], x_false[false_batch])), dtype= torch.float, device=DEVICE)\n",
        "        y_train = tensor(data= cat((ones(batch_size) , zeros(batch_size))) , dtype= torch.float, device=DEVICE)\n",
        "        model = model.to(DEVICE)\n",
        "\n",
        "        train_dset = Dset(X_train, y_train)\n",
        "        train_loader = DataLoader(dataset= train_dset, batch_size = batch_size, shuffle=False)\n",
        "        torch.cuda.empty_cache()\n",
        "        # Entrenamiento\n",
        "        for i, (inputs, labels) in enumerate(train_loader):\n",
        "            model.train()\n",
        "            opt.zero_grad()\n",
        "            inputs = inputs.to(DEVICE)\n",
        "            labels = labels.to(DEVICE)\n",
        "            y_pred = model( inputs )\n",
        "            loss = loss_func(y_pred, labels[:, None])\n",
        "            loss.backward()\n",
        "            opt.step()\n",
        "            losses.append(loss.item())\n",
        "        \n",
        "        # Falta calcular el accuracy\n",
        "        finish_by_accueracy = True if accuracy == None else accuracy > model_accuracy\n",
        "        iter_counter += 1\n",
        "        \n",
        "            "
      ]
    },
    {
      "cell_type": "code",
      "execution_count": 60,
      "metadata": {},
      "outputs": [],
      "source": [
        "import torch.nn.functional as F\n",
        "\n",
        "\n",
        "class Generator(nn.Module):\n",
        "  def __init__(self, input_dim, output_dim=784):\n",
        "    super(Generator, self).__init__()\n",
        "    \n",
        "    # 5 Fully connected layers\n",
        "    self.fc1 = nn.Linear(input_dim, 256)\n",
        "    self.fc2 = nn.Linear(self.fc1.out_features, self.fc1.out_features * 2)\n",
        "    self.fc3 = nn.Linear(self.fc2.out_features, self.fc2.out_features * 2)\n",
        "    self.fc4 = nn.Linear(self.fc3.out_features, self.fc3.out_features * 2)\n",
        "    self.fc5 = nn.Linear(self.fc4.out_features, output_dim)\n",
        "\n",
        "  def forward(self, x):\n",
        "    x = torch.sigmoid(self.fc1(x))\n",
        "    x = torch.sigmoid(self.fc2(x))\n",
        "    x = torch.sigmoid(self.fc3(x))\n",
        "    x = torch.sigmoid(self.fc4(x))\n",
        "    x = torch.sigmoid(self.fc5(x))\n",
        "\n",
        "    return torch.nn.LogSoftmax(x)\n",
        "\n",
        "\n"
      ]
    },
    {
      "cell_type": "markdown",
      "metadata": {},
      "source": [
        "Generator Training"
      ]
    },
    {
      "cell_type": "code",
      "execution_count": 61,
      "metadata": {},
      "outputs": [
        {
          "ename": "AttributeError",
          "evalue": "'LogSoftmax' object has no attribute 'shape'",
          "output_type": "error",
          "traceback": [
            "\u001b[1;31m---------------------------------------------------------------------------\u001b[0m",
            "\u001b[1;31mAttributeError\u001b[0m                            Traceback (most recent call last)",
            "Cell \u001b[1;32mIn [61], line 25\u001b[0m\n\u001b[0;32m     19\u001b[0m \u001b[39m# discrimitor output\u001b[39;00m\n\u001b[0;32m     20\u001b[0m \u001b[39m# gen loss = criterion(discrimator, y)\u001b[39;00m\n\u001b[0;32m     21\u001b[0m \n\u001b[0;32m     22\u001b[0m \u001b[39m# gen loss.backward\u001b[39;00m\n\u001b[0;32m     24\u001b[0m gen_optimizer\u001b[39m.\u001b[39mstep()\n\u001b[1;32m---> 25\u001b[0m \u001b[39mprint\u001b[39m(g_output\u001b[39m.\u001b[39;49mshape)\n",
            "File \u001b[1;32mc:\\Python310\\lib\\site-packages\\torch\\nn\\modules\\module.py:1207\u001b[0m, in \u001b[0;36mModule.__getattr__\u001b[1;34m(self, name)\u001b[0m\n\u001b[0;32m   1205\u001b[0m     \u001b[39mif\u001b[39;00m name \u001b[39min\u001b[39;00m modules:\n\u001b[0;32m   1206\u001b[0m         \u001b[39mreturn\u001b[39;00m modules[name]\n\u001b[1;32m-> 1207\u001b[0m \u001b[39mraise\u001b[39;00m \u001b[39mAttributeError\u001b[39;00m(\u001b[39m\"\u001b[39m\u001b[39m'\u001b[39m\u001b[39m{}\u001b[39;00m\u001b[39m'\u001b[39m\u001b[39m object has no attribute \u001b[39m\u001b[39m'\u001b[39m\u001b[39m{}\u001b[39;00m\u001b[39m'\u001b[39m\u001b[39m\"\u001b[39m\u001b[39m.\u001b[39mformat(\n\u001b[0;32m   1208\u001b[0m     \u001b[39mtype\u001b[39m(\u001b[39mself\u001b[39m)\u001b[39m.\u001b[39m\u001b[39m__name__\u001b[39m, name))\n",
            "\u001b[1;31mAttributeError\u001b[0m: 'LogSoftmax' object has no attribute 'shape'"
          ]
        }
      ],
      "source": [
        "from torch.autograd import Variable\n",
        "import torch.optim as optim\n",
        "\n",
        "batch_size = 1\n",
        "input_dim = 150\n",
        "lr = 2e-4\n",
        "\n",
        "gen = Generator(input_dim=input_dim).to(DEVICE)\n",
        "gen_optimizer = optim.Adam(gen.parameters(), lr=lr)\n",
        "criterion = nn.BCELoss() \n",
        "\n",
        "for e in range(100):\n",
        "  gen.zero_grad()\n",
        "\n",
        "  x = Variable(torch.randn(batch_size, input_dim).to(DEVICE))\n",
        "  y = Variable(torch.ones(batch_size, 1).to(DEVICE))\n",
        "\n",
        "  g_output = gen(x)\n",
        "  # discrimitor output\n",
        "  # gen loss = criterion(discrimator, y)\n",
        "\n",
        "  # gen loss.backward\n",
        "\n",
        "  gen_optimizer.step()\n",
        "  print(g_output)\n"
      ]
    },
    {
      "cell_type": "code",
      "execution_count": null,
      "metadata": {},
      "outputs": [],
      "source": [
        "from torch import optim\n",
        "from torch import tensor\n",
        "\n",
        "classifier = Classifier()\n",
        "\n",
        "opt = optim.Adadelta(classifier.parameters(), lr= 0.005)\n",
        "\n",
        "train_classifier(opt=opt, model = classifier, x_true = x_true, x_false = x_true, accuracy = 1, max_iters= 1)"
      ]
    }
  ],
  "metadata": {
    "colab": {
      "provenance": []
    },
    "kernelspec": {
      "display_name": "Python 3.10.3 64-bit",
      "language": "python",
      "name": "python3"
    },
    "language_info": {
      "codemirror_mode": {
        "name": "ipython",
        "version": 3
      },
      "file_extension": ".py",
      "mimetype": "text/x-python",
      "name": "python",
      "nbconvert_exporter": "python",
      "pygments_lexer": "ipython3",
      "version": "3.10.3"
    },
    "vscode": {
      "interpreter": {
        "hash": "369f2c481f4da34e4445cda3fffd2e751bd1c4d706f27375911949ba6bb62e1c"
      }
    }
  },
  "nbformat": 4,
  "nbformat_minor": 0
}
